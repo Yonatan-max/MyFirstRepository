{
  "nbformat": 4,
  "nbformat_minor": 0,
  "metadata": {
    "colab": {
      "name": "Joke.ipynb",
      "provenance": [],
      "authorship_tag": "ABX9TyO0nhGW6HN5lACrtSXsWA2S",
      "include_colab_link": true
    },
    "kernelspec": {
      "name": "python3",
      "display_name": "Python 3"
    }
  },
  "cells": [
    {
      "cell_type": "markdown",
      "metadata": {
        "id": "view-in-github",
        "colab_type": "text"
      },
      "source": [
        "<a href=\"https://colab.research.google.com/github/Yonatan-max/MyFirstRepository/blob/master/Joke.ipynb\" target=\"_parent\"><img src=\"https://colab.research.google.com/assets/colab-badge.svg\" alt=\"Open In Colab\"/></a>"
      ]
    },
    {
      "cell_type": "code",
      "metadata": {
        "id": "pB1KljIyiG6T",
        "colab_type": "code",
        "colab": {}
      },
      "source": [
        "import requests\n",
        "from bs4 import BeautifulSoup\n",
        "import csv\n",
        "url='http://www.laughfactory.com/jokes/'\n",
        "page=requests.get(url)\n",
        "soup=BeautifulSoup(page.content,'html.parser')\n",
        "table=soup.find('div',{'class':'jokes-nav'})\n",
        "link=[]\n",
        "for i in table.findAll('li'):\n",
        "   link.append(i.a['href'])\n",
        "jokes=[]\n",
        "link.pop(0)\n",
        "link.pop(0)\n",
        "link.pop(0)\n",
        "for i in link:\n",
        "  count=1\n",
        "  webpage=[]\n",
        "  req=requests.get(i)\n",
        "  nh=BeautifulSoup(req.content,'html.parser')\n",
        "  yrk=nh.find('div',{'id':'jokes_container'})\n",
        "  for j in yrk.findAll('div',{'class':'jokes'}):\n",
        "    joke={}\n",
        "    joke['text']=j.div.div.p.text\n",
        "    joke['likes']=j.find('a',{'class':'like'}).text\n",
        "    joke['author']=j.div.span.text\n",
        "    webpage.append(joke)\n",
        "  jokes.append(webpage)\n",
        "with open('jokes.csv','w',newline='') as f:\n",
        "  csv_writer=csv.DictWriter(f,['text','likes','author']) \n",
        "  csv_writer.writeheader()  \n",
        "  for i in jokes:\n",
        "    for j in i:\n",
        "      csv_writer.writerow(j)\n",
        "    csv_writer.writerow({'text':'','likes':'','author':''})\n"
      ],
      "execution_count": 0,
      "outputs": []
    }
  ]
}