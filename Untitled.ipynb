{
  "nbformat": 4,
  "nbformat_minor": 0,
  "metadata": {
    "colab": {
      "name": "Untitled",
      "provenance": [],
      "authorship_tag": "ABX9TyPPUPVI36xcPAGH36xq+s20",
      "include_colab_link": true
    },
    "kernelspec": {
      "name": "python3",
      "display_name": "Python 3"
    }
  },
  "cells": [
    {
      "cell_type": "markdown",
      "metadata": {
        "id": "view-in-github",
        "colab_type": "text"
      },
      "source": [
        "<a href=\"https://colab.research.google.com/github/Yonatan-max/MyFirstRepository/blob/master/Untitled.ipynb\" target=\"_parent\"><img src=\"https://colab.research.google.com/assets/colab-badge.svg\" alt=\"Open In Colab\"/></a>"
      ]
    },
    {
      "cell_type": "code",
      "metadata": {
        "id": "59y_pUZ7HyGA",
        "colab_type": "code",
        "colab": {}
      },
      "source": [
        "import cv2\n",
        "import numpy as np\n",
        "from google.colab.patches import cv2_imshow as show\n",
        "img=cv2.imread('mik.jpg')\n",
        "'''kernel=np.ones((5,5),np.uint8)\n",
        "grayImg=cv2.cvtColor(img,cv2.COLOR_BGR2GRAY)\n",
        "blurImg=cv2.blur(img,(7,7),0)\n",
        "cannyImg=cv2.Canny(img,100,100)\n",
        "dialationImg=cv2.dilate(img,kernel,iterations=0)\n",
        "erodeImg=cv2.erode(img,kernel,iterations=1)\n",
        "#show(img)\n",
        "#print(img.shape)\n",
        "resizeImg=cv2.resize(img,(300,400))\n",
        "cropImg=img[0:700,0:800]'''\n",
        "#matrix=np.zeros((512,512,3),np.uint8)\n",
        "'''matrix[0:100,0:100]=255,0,0\n",
        "cv2.rectangle(matrix,(0,0),(250,350),(0,255,0),2)\n",
        "cv2.circle(matrix,(200,200),20,(250,0,0),2)\n",
        "cv2.putText(matrix,'i am dead',(200,260),cv2.FONT_HERSHEY_COMPLEX,1,(0,255,255),1)\n",
        "cv2.putText(img,'wow,beautiful',(200,260,),cv2.FONT_HERSHEY_COMPLEX,1,(0,255,255),1)\n",
        "width,height=250,350\n",
        "pt1=np.float32([[111,219],[287,188],[154,482],[352,440]])\n",
        "pt2=np.float32([[0,0],[width,0],[0,height],[width,height]])\n",
        "mat=cv2.getPerspectiveTransform(pt1,pt2)\n",
        "warpImg=cv2.warpPerspective(img,mat,(width,height))\n",
        "horImg=np.hstack((img,img))\n",
        "verImg=np.vstack((img,img))'''\n",
        "def stackImages(scale,imgArray):\n",
        "    rows,cols,rowsAvailable,width,height = len(imgArray),len(imgArray[0]),isinstance(imgArray[0], list),imgArray[0][0].shape[1],imgArray[0][0].shape[0]\n",
        "    if rowsAvailable:\n",
        "        for x in range ( 0, rows):\n",
        "            for y in range(0, cols):\n",
        "                if imgArray[x][y].shape[:2] == imgArray[0][0].shape [:2]:\n",
        "                    imgArray[x][y] = cv2.resize(imgArray[x][y], (0, 0), None, scale, scale)\n",
        "                else:\n",
        "                    imgArray[x][y] = cv2.resize(imgArray[x][y], (imgArray[0][0].shape[1], imgArray[0][0].shape[0]), None, scale, scale)\n",
        "                if len(imgArray[x][y].shape) == 2: imgArray[x][y]= cv2.cvtColor( imgArray[x][y], cv2.COLOR_GRAY2BGR)\n",
        "        imageBlank = np.zeros((height, width, 3), np.uint8)\n",
        "        hor = [imageBlank]*rows\n",
        "        hor_con = [imageBlank]*rows\n",
        "        for x in range(0, rows):\n",
        "            hor[x] = np.hstack(imgArray[x])\n",
        "        ver = np.vstack(hor)\n",
        "    else:\n",
        "        for x in range(0, rows):\n",
        "            if imgArray[x].shape[:2] == imgArray[0].shape[:2]:\n",
        "                imgArray[x] = cv2.resize(imgArray[x], (0, 0), None, scale, scale)\n",
        "            else:\n",
        "                imgArray[x] = cv2.resize(imgArray[x], (imgArray[0].shape[1], imgArray[0].shape[0]), None,scale, scale)\n",
        "            if len(imgArray[x].shape) == 2: imgArray[x] = cv2.cvtColor(imgArray[x], cv2.COLOR_GRAY2BGR)\n",
        "        hor= np.hstack(imgArray)\n",
        "        ver = hor\n",
        "    return ver\n",
        "\n",
        "hsvImg=cv2.cvtColor(img,cv2.COLOR_BGR2HSV)\n",
        "staImg=stackImages(0.5,([img,img,img,img],[img,img,img,img]))\n",
        "cannyImg=cv2.Canny(img,20,20)\n",
        "show(staImg)\n",
        "\n"
      ],
      "execution_count": 0,
      "outputs": []
    }
  ]
}