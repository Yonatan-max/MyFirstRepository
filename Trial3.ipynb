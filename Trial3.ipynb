{
  "nbformat": 4,
  "nbformat_minor": 0,
  "metadata": {
    "colab": {
      "name": "Trial3.ipynb",
      "provenance": [],
      "authorship_tag": "ABX9TyPgQc2mh+wscz324JKfphaV",
      "include_colab_link": true
    },
    "kernelspec": {
      "name": "python3",
      "display_name": "Python 3"
    }
  },
  "cells": [
    {
      "cell_type": "markdown",
      "metadata": {
        "id": "view-in-github",
        "colab_type": "text"
      },
      "source": [
        "<a href=\"https://colab.research.google.com/github/Yonatan-max/MyFirstRepository/blob/master/Trial3.ipynb\" target=\"_parent\"><img src=\"https://colab.research.google.com/assets/colab-badge.svg\" alt=\"Open In Colab\"/></a>"
      ]
    },
    {
      "cell_type": "code",
      "metadata": {
        "id": "cAB5CFDx7040",
        "colab_type": "code",
        "colab": {
          "base_uri": "https://localhost:8080/",
          "height": 282
        },
        "outputId": "a1662baa-07e4-440a-907c-81f10c198468"
      },
      "source": [
        "import numpy as np\n",
        "import pandas as pd\n",
        "from matplotlib import pyplot as plt\n",
        "'''#single dimensional array\n",
        "n1=np.array([1,2,3,4,5])\n",
        "#double dimensional array\n",
        "n2=np.array([[1,2,3],[1,2,3]])\n",
        "#intializing it with zeros\n",
        "n3=np.zeros((1,6))\n",
        "n4=np.zeros((5,4))\n",
        "#filling it with 8\n",
        "n5=np.full((3,4),8)\n",
        "#filling it from 10-20\n",
        "n6=np.arange(10,20)\n",
        "#same as above bt 5 gap \n",
        "n7=np.arange(10,50,5)\n",
        "#taking 10 elements randomly btn 100-200\n",
        "n8=np.random.randint(100,200,10)\n",
        "n9=np.array([[1,2,3],[1,2,3]])\n",
        "#swaping row and col \n",
        "n9.shape=(3,2)\n",
        "a=np.array([10,20,30])\n",
        "b=np.array([30,40,50])\n",
        "np.sum([a,b])\n",
        "np.sum([a,b],axis=0)\n",
        "np.sum([a,b],axis=1)\n",
        "np.vstack([a,b])\n",
        "np.hstack([a,b])\n",
        "np.column_stack([a,b])\n",
        "#pandas area\n",
        "#one dimensional array\n",
        "s1=pd.Series([10,20,30,40,50])\n",
        "s2=pd.Series([10,20,30,40,50],index=['a','b','c','d','e',])\n",
        "s3=pd.Series({'a':10,'b':20,'c':30,'d':40,'e':50,})\n",
        "#for dataframe iloc for rows and cols\n",
        "x=np.arange(1,11)\n",
        "y=2*x\n",
        "#drawing line\n",
        "plt.plot(x,y,color=\"orange\",linewidth=5,linestyle=\":\")\n",
        "plt.plot(x,3*x)\n",
        "plt.title(\"Line Plot\")\n",
        "plt.xlabel(\"x-axis\")\n",
        "plt.ylabel(\"y-axis\")\n",
        "plt.grid(True)\n",
        "plt.show()\n",
        "#drawing bar graph\n",
        "#bar vertical and barh horizontal\n",
        "student={\"bob\":12,\"carles\":25,\"Sam\":21}\n",
        "names=list(student.keys())\n",
        "marks=list(student.values())\n",
        "plt.barh(names,marks,color=\"yellow\")\n",
        "plt.title(\"students marks\")\n",
        "plt.xlabel(\"names\")\n",
        "plt.ylabel(\"marks\")\n",
        "plt.grid(True)\n",
        "plt.show()'''\n",
        "#scatter plot\n",
        "x=[1,2,3,4]\n",
        "y=[2,4,6,8]\n",
        "plt.scatter(x,y,color=\"red\")\n",
        "\n",
        "\n",
        "\n"
      ],
      "execution_count": 54,
      "outputs": [
        {
          "output_type": "execute_result",
          "data": {
            "text/plain": [
              "<matplotlib.collections.PathCollection at 0x7f9c1930ff60>"
            ]
          },
          "metadata": {
            "tags": []
          },
          "execution_count": 54
        },
        {
          "output_type": "display_data",
          "data": {
            "image/png": "[encoded data removed]",
            "text/plain": [
              "<Figure size 432x288 with 1 Axes>"
            ]
          },
          "metadata": {
            "tags": [],
            "needs_background": "light"
          }
        }
      ]
    }
  ]
}