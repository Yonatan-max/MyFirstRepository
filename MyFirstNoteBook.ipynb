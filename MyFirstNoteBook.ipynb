{
  "nbformat": 4,
  "nbformat_minor": 0,
  "metadata": {
    "colab": {
      "name": "MyFirstNoteBook.ipynb",
      "provenance": [],
      "authorship_tag": "ABX9TyO7ra/+MJADnWzvvjf+Iu7P",
      "include_colab_link": true
    },
    "kernelspec": {
      "name": "python3",
      "display_name": "Python 3"
    }
  },
  "cells": [
    {
      "cell_type": "markdown",
      "metadata": {
        "id": "view-in-github",
        "colab_type": "text"
      },
      "source": [
        "<a href=\"https://colab.research.google.com/github/Yonatan-max/MyFirstRepository/blob/master/MyFirstNoteBook.ipynb\" target=\"_parent\"><img src=\"https://colab.research.google.com/assets/colab-badge.svg\" alt=\"Open In Colab\"/></a>"
      ]
    },
    {
      "cell_type": "code",
      "metadata": {
        "id": "NeV97Oi_XEIj",
        "colab_type": "code",
        "colab": {
          "base_uri": "https://localhost:8080/",
          "height": 34
        },
        "outputId": "f98a7a9e-06ca-4345-c8b0-47fdf5a99c0d"
      },
      "source": [
        "print(\"Hello World\")"
      ],
      "execution_count": 1,
      "outputs": [
        {
          "output_type": "stream",
          "text": [
            "Hello World\n"
          ],
          "name": "stdout"
        }
      ]
    },
    {
      "cell_type": "code",
      "metadata": {
        "id": "FeMvMN2bXxCO",
        "colab_type": "code",
        "colab": {
          "base_uri": "https://localhost:8080/",
          "height": 34
        },
        "outputId": "9ac1214c-35d2-4736-86eb-786ac9c08fe9"
      },
      "source": [
        "print(1+2)\n"
      ],
      "execution_count": 2,
      "outputs": [
        {
          "output_type": "stream",
          "text": [
            "3\n"
          ],
          "name": "stdout"
        }
      ]
    },
    {
      "cell_type": "code",
      "metadata": {
        "id": "JbDpJfoTeCnT",
        "colab_type": "code",
        "colab": {
          "base_uri": "https://localhost:8080/",
          "height": 54
        },
        "outputId": "6e989b71-23c3-4d05-8662-03e8c431b861"
      },
      "source": [
        "import pandas as pd\n",
        "weather={'Day':['Monday','Tuesday','Wednesday','Thurday','Friday','Saturday'],\n",
        "         'Temprature':[30,28,12,45,24,28],\n",
        "         'event':['sunny','rainy','hot','cold','average','cool']\n",
        "         }\n",
        "'''df=pd.DataFrame(weather)\n",
        "df\n",
        "type(df)\n",
        "df.shape\n",
        "df.head(2)\n",
        "df.tail(2)\n",
        "df[2:5]\n",
        "df.columns\n",
        "df.event\n",
        "df['event']\n",
        "df['Temprature'].mean()\n",
        "df.Temprature.median()\n",
        "df.Temprature.std()\n",
        "df.describe()\n",
        "df[df.Temprature<=20]\n",
        "df[df.Temprature==df['Temprature'].min()]\n",
        "df[['Day','event']][df.Temprature==df['Temprature'].min()]\n",
        "df.index\n",
        "df.set_index('Day',inplace=True)\n",
        "df.loc['Monday']\n",
        "df.reset_index(inplace=True)\n",
        "df.set_index('event',inplace=True)\n",
        "\n",
        "mylist=[('hermon',20,201850225,'cool'),('nahom',21,201850211,'warm'),('yonatan',22,201850216,'moderate')]\n",
        "df=pd.DataFrame(mylist,columns=['name','age','id','condition'])'''"
      ],
      "execution_count": 92,
      "outputs": [
        {
          "output_type": "execute_result",
          "data": {
            "text/plain": [
              "\"df=pd.DataFrame(weather)\\ndf\\ntype(df)\\ndf.shape\\ndf.head(2)\\ndf.tail(2)\\ndf[2:5]\\ndf.columns\\ndf.event\\ndf['event']\\ndf['Temprature'].mean()\\ndf.Temprature.median()\\ndf.Temprature.std()\\ndf.describe()\\ndf[df.Temprature<=20]\\ndf[df.Temprature==df['Temprature'].min()]\\ndf[['Day','event']][df.Temprature==df['Temprature'].min()]\\ndf.index\\ndf.set_index('Day',inplace=True)\\ndf.loc['Monday']\\ndf.reset_index(inplace=True)\\ndf.set_index('event',inplace=True)\\n\\nmylist=[('hermon',20,201850225,'cool'),('nahom',21,201850211,'warm'),('yonatan',22,201850216,'moderate')]\\ndf=pd.DataFrame(mylist,columns=['name','age','id','condition'])\""
            ]
          },
          "metadata": {
            "tags": []
          },
          "execution_count": 92
        }
      ]
    }
  ]
}