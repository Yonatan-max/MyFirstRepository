{
  "nbformat": 4,
  "nbformat_minor": 0,
  "metadata": {
    "colab": {
      "name": "FillingMissing.ipynb",
      "provenance": [],
      "collapsed_sections": [],
      "authorship_tag": "ABX9TyOHIcMjlpdmgqfnClY4aVja",
      "include_colab_link": true
    },
    "kernelspec": {
      "name": "python3",
      "display_name": "Python 3"
    }
  },
  "cells": [
    {
      "cell_type": "markdown",
      "metadata": {
        "id": "view-in-github",
        "colab_type": "text"
      },
      "source": [
        "<a href=\"https://colab.research.google.com/github/Yonatan-max/MyFirstRepository/blob/master/FillingMissing.ipynb\" target=\"_parent\"><img src=\"https://colab.research.google.com/assets/colab-badge.svg\" alt=\"Open In Colab\"/></a>"
      ]
    },
    {
      "cell_type": "code",
      "metadata": {
        "id": "qtBtfEhGA3yb",
        "colab_type": "code",
        "colab": {
          "base_uri": "https://localhost:8080/",
          "height": 34
        },
        "outputId": "b2fa3842-f53c-46ff-eca3-b6fe94eb08d8"
      },
      "source": [
        "import pandas as pd\n",
        "import csv\n",
        "'''with open('yrk.csv', 'a+', newline='') as f:\n",
        "        csv_writer = csv.writer(f)\n",
        "        csv_writer.writerow(['2017/12/4','34','8','snow'])\n",
        "df=pd.read_csv('yrk.csv',parse_dates=['day'])\n",
        "df.set_index('day',inplace=True)'''\n",
        "with open('yrk.csv','r') as f:\n",
        "  reader=list(csv.reader(f))\n",
        "df=reader[5]\n",
        "df"
      ],
      "execution_count": 82,
      "outputs": [
        {
          "output_type": "execute_result",
          "data": {
            "text/plain": [
              "['1/5/2017', '32', '', 'Rain']"
            ]
          },
          "metadata": {
            "tags": []
          },
          "execution_count": 82
        }
      ]
    }
  ]
}