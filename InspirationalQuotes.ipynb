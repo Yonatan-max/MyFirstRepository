{
  "nbformat": 4,
  "nbformat_minor": 0,
  "metadata": {
    "colab": {
      "name": "InspirationalQuotes.ipynb",
      "provenance": [],
      "authorship_tag": "ABX9TyNY+aGcfxBY9j6pSwfPb0YQ",
      "include_colab_link": true
    },
    "kernelspec": {
      "name": "python3",
      "display_name": "Python 3"
    }
  },
  "cells": [
    {
      "cell_type": "markdown",
      "metadata": {
        "id": "view-in-github",
        "colab_type": "text"
      },
      "source": [
        "<a href=\"https://colab.research.google.com/github/Yonatan-max/MyFirstRepository/blob/master/InspirationalQuotes.ipynb\" target=\"_parent\"><img src=\"https://colab.research.google.com/assets/colab-badge.svg\" alt=\"Open In Colab\"/></a>"
      ]
    },
    {
      "cell_type": "code",
      "metadata": {
        "id": "8c6ps7SZ_8hW",
        "colab_type": "code",
        "colab": {}
      },
      "source": [
        "import requests \n",
        "from bs4 import BeautifulSoup \n",
        "import csv \n",
        "   \n",
        "URL = \"http://www.values.com/inspirational-quotes\"\n",
        "r = requests.get(URL) \n",
        "   \n",
        "soup = BeautifulSoup(r.content, 'html5lib') \n",
        "   \n",
        "quotes=[]  # a list to store quotes \n",
        "   \n",
        "table = soup.find('div', attrs = {'class':'row','id' : 'all_quotes'}) \n",
        "for row in table.findAll('div', attrs = {'class':'col-6 col-lg-3 text-center margin-30px-bottom sm-margin-30px-top'}):\n",
        "    quote = {} \n",
        "    quote['theme'] = row.h5.text \n",
        "    quote['url'] = row.a['href'] \n",
        "    quote['img'] = row.img['src'] \n",
        "    quote['lines'] = row.img['alt'].split(\" #\")[0] \n",
        "    quote['author'] = row.img['alt'].split(\" #\")[1] \n",
        "    quotes.append(quote) \n",
        "\n",
        "filename = 'inspirational_quotes.csv'\n",
        "with open(filename, 'w', newline='') as f: \n",
        "    w = csv.DictWriter(f,['theme','url','img','lines','author']) \n",
        "    w.writeheader() \n",
        "    for quote in quotes: \n",
        "        w.writerow(quote)\n"
      ],
      "execution_count": 0,
      "outputs": []
    }
  ]
}