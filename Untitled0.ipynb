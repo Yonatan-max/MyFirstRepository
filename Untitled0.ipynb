{
  "nbformat": 4,
  "nbformat_minor": 0,
  "metadata": {
    "colab": {
      "name": "Untitled0.ipynb",
      "provenance": [],
      "authorship_tag": "ABX9TyOcEBhW2aYFAfUUSvgni6Fs",
      "include_colab_link": true
    },
    "kernelspec": {
      "name": "python3",
      "display_name": "Python 3"
    }
  },
  "cells": [
    {
      "cell_type": "markdown",
      "metadata": {
        "id": "view-in-github",
        "colab_type": "text"
      },
      "source": [
        "<a href=\"https://colab.research.google.com/github/Yonatan-max/MyFirstRepository/blob/master/Untitled0.ipynb\" target=\"_parent\"><img src=\"https://colab.research.google.com/assets/colab-badge.svg\" alt=\"Open In Colab\"/></a>"
      ]
    },
    {
      "cell_type": "code",
      "metadata": {
        "id": "yOG3HOhsbdKA",
        "colab_type": "code",
        "colab": {}
      },
      "source": [
        "from rubik_solver import utils\n",
        "cube='wowgybwyogygybyoggrowbrgywrborwggybrbwororbwborgowryby'\n",
        "print(len(utils.solve(cube,'Beginner')))\n",
        "print(len(utils.solve(cube,'CFOP')))\n",
        "print(len(utils.solve(cube,'Kociemba')))"
      ],
      "execution_count": 0,
      "outputs": []
    }
  ]
}