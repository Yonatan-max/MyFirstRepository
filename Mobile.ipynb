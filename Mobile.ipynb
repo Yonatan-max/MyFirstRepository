{
  "nbformat": 4,
  "nbformat_minor": 0,
  "metadata": {
    "colab": {
      "name": "Mobile.ipynb",
      "provenance": [],
      "authorship_tag": "ABX9TyNnYmtO34ccqHGp0s73/pYV",
      "include_colab_link": true
    },
    "kernelspec": {
      "name": "python3",
      "display_name": "Python 3"
    }
  },
  "cells": [
    {
      "cell_type": "markdown",
      "metadata": {
        "id": "view-in-github",
        "colab_type": "text"
      },
      "source": [
        "<a href=\"https://colab.research.google.com/github/Yonatan-max/MyFirstRepository/blob/master/Mobile.ipynb\" target=\"_parent\"><img src=\"https://colab.research.google.com/assets/colab-badge.svg\" alt=\"Open In Colab\"/></a>"
      ]
    },
    {
      "cell_type": "code",
      "metadata": {
        "id": "yw8NhblTTyRB",
        "colab_type": "code",
        "colab": {}
      },
      "source": [
        "import requests\n",
        "from bs4 import BeautifulSoup as bs\n",
        "import csv\n",
        "url='https://www.flipkart.com/search?q=mobiles&sid=tyy%2C4io&as=on&as-show=on&otracker=AS_QueryStore_OrganicAutoSuggest_1_6_na_na_na&otracker1=AS_QueryStore_OrganicAutoSuggest_1_6_na_na_na&as-pos=1&as-type=RECENT&suggestionId=mobiles%7CMobiles&requestId=84f84220-e7e5-4e37-85fc-631ac9a6c894&as-searchtext=mobile'\n",
        "table=requests.get(url)\n",
        "soup=bs(table.content,'html.parser')\n",
        "items=soup.findAll('div',{'class':'bhgxx2 col-12-12'})\n",
        "yrk=[]\n",
        "for row in items:\n",
        "  mob={}\n",
        "  mob['price']=row.find('div',{'class': '_1vC4OE _2rQ-NK'})\n",
        "  mob['name']=row.find('div',{'class':'_3wU53n'})\n",
        "  yrk.append(mob)\n",
        "print(yrk[1])"
      ],
      "execution_count": 0,
      "outputs": []
    },
    {
      "cell_type": "code",
      "metadata": {
        "id": "teKrrHcxjLHV",
        "colab_type": "code",
        "colab": {
          "base_uri": "https://localhost:8080/",
          "height": 34
        },
        "outputId": "aaa9aa12-3e64-48cf-a16a-e3cab4ab0462"
      },
      "source": [
        "import requests\n",
        "from bs4 import BeautifulSoup as bs\n",
        "import csv\n",
        "url='https://www.newegg.com/robots.txt'\n",
        "tab=requests.get(url)\n",
        "print(tab)\n",
        "\n"
      ],
      "execution_count": 69,
      "outputs": [
        {
          "output_type": "stream",
          "text": [
            "<Response [200]>\n"
          ],
          "name": "stdout"
        }
      ]
    }
  ]
}