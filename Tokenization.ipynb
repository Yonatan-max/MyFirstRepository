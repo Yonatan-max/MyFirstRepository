{
  "nbformat": 4,
  "nbformat_minor": 0,
  "metadata": {
    "colab": {
      "name": "Tokenization.ipynb",
      "provenance": [],
      "authorship_tag": "ABX9TyPL2E8KInJfTBzJoJyu6i6E",
      "include_colab_link": true
    },
    "kernelspec": {
      "name": "python3",
      "display_name": "Python 3"
    }
  },
  "cells": [
    {
      "cell_type": "markdown",
      "metadata": {
        "id": "view-in-github",
        "colab_type": "text"
      },
      "source": [
        "<a href=\"https://colab.research.google.com/github/Yonatan-max/MyFirstRepository/blob/master/Tokenization.ipynb\" target=\"_parent\"><img src=\"https://colab.research.google.com/assets/colab-badge.svg\" alt=\"Open In Colab\"/></a>"
      ]
    },
    {
      "cell_type": "code",
      "metadata": {
        "id": "enJ1_cOi41IS",
        "colab_type": "code",
        "colab": {
          "base_uri": "https://localhost:8080/",
          "height": 101
        },
        "outputId": "7ec5831e-1e84-4ed5-ae91-bc5badbded1f"
      },
      "source": [
        "from nltk.tokenize import sent_tokenize,word_tokenize\n",
        "from nltk.corpus import stopwords\n",
        "from nltk.stem import PorterStemmer \n",
        "text=\"Hello Mr.Smith,how are  you doing today? The weather is great is good and python is awesome. The sky is pinkish-blue. You shouldn't eat cardboard.\"\n",
        "sentence=nltk.sent_tokenize(text)\n",
        "word=nltk.word_tokenize(text)\n",
        "stop_words=set(stopwords.words(\"english\"))\n",
        "_Sent=[w for w in word if w not in stop_words]\n",
        "mylist=[\"python\",\"pythoner\",\"pythoning\",\"pythoned\",\"pythonly\"]\n",
        "ps=PorterStemmer()\n",
        "for w in mylist:\n",
        "  print(ps.stem(w))\n"
      ],
      "execution_count": 26,
      "outputs": [
        {
          "output_type": "stream",
          "text": [
            "python\n",
            "python\n",
            "python\n",
            "python\n",
            "pythonli\n"
          ],
          "name": "stdout"
        }
      ]
    }
  ]
}