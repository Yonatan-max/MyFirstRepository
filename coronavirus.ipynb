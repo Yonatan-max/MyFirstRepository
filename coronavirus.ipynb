{
  "nbformat": 4,
  "nbformat_minor": 0,
  "metadata": {
    "colab": {
      "name": "coronavirus.ipynb",
      "provenance": [],
      "authorship_tag": "ABX9TyPZbma9JlWpdw/OQF/2tL6E",
      "include_colab_link": true
    },
    "kernelspec": {
      "name": "python3",
      "display_name": "Python 3"
    }
  },
  "cells": [
    {
      "cell_type": "markdown",
      "metadata": {
        "id": "view-in-github",
        "colab_type": "text"
      },
      "source": [
        "<a href=\"https://colab.research.google.com/github/Yonatan-max/MyFirstRepository/blob/master/coronavirus.ipynb\" target=\"_parent\"><img src=\"https://colab.research.google.com/assets/colab-badge.svg\" alt=\"Open In Colab\"/></a>"
      ]
    },
    {
      "cell_type": "code",
      "metadata": {
        "id": "oVD3ZjouNx5B",
        "colab_type": "code",
        "colab": {}
      },
      "source": [
        "import requests\n",
        "from bs4 import BeautifulSoup\n",
        "import csv\n",
        "url='https://www.worldometers.info/coronavirus/countries-where-coronavirus-has-spread/'\n",
        "page=requests.get(url)\n",
        "soup=BeautifulSoup(page.content,'html.parser')\n",
        "table=soup.findAll('tr')\n",
        "table.pop(0)\n",
        "rows=[]\n",
        "for i in table:\n",
        "  col=[]\n",
        "  for j in i.findAll('td'):\n",
        "       col.append(j.text)\n",
        "\n",
        "  cols={'country':col[0],'confirmed':col[1],'death':col[2],'region':col[3]}\n",
        "  rows.append(cols)\n",
        "with open('naodcorona.csv','w',newline='') as f:\n",
        "   csv_wri=csv.DictWriter(f,['country','confirmed','death','region'])\n",
        "   csv_wri.writeheader()\n",
        "   for i in rows:\n",
        "     csv_wri.writerow(i)\n"
      ],
      "execution_count": 0,
      "outputs": []
    }
  ]
}