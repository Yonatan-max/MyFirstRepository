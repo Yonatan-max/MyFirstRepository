{
  "nbformat": 4,
  "nbformat_minor": 0,
  "metadata": {
    "colab": {
      "name": "savemodel.ipynb",
      "provenance": [],
      "authorship_tag": "ABX9TyMEmkyCVEAU1/GWZCpDoZqb",
      "include_colab_link": true
    },
    "kernelspec": {
      "name": "python3",
      "display_name": "Python 3"
    }
  },
  "cells": [
    {
      "cell_type": "markdown",
      "metadata": {
        "id": "view-in-github",
        "colab_type": "text"
      },
      "source": [
        "<a href=\"https://colab.research.google.com/github/Yonatan-max/MyFirstRepository/blob/master/savemodel.ipynb\" target=\"_parent\"><img src=\"https://colab.research.google.com/assets/colab-badge.svg\" alt=\"Open In Colab\"/></a>"
      ]
    },
    {
      "cell_type": "code",
      "metadata": {
        "id": "HtO8zyRzgQp5",
        "colab_type": "code",
        "colab": {}
      },
      "source": [
        "import pandas  as pd\n",
        "from sklearn import linear_model\n",
        "\n",
        "from matplotlib import pyplot as plt\n",
        "df=pd.read_csv('homeprices.csv')\n",
        "reg=linear_model.LinearRegression()\n",
        "reg.fit(df[['area']],df['price'])\n",
        "plt.scatter(df.area,df.price,color='red',marker='+')\n",
        "plt.plot(df.area,reg.predict(df[['area']]))\n",
        "import pickle\n",
        "from sklearn.externals import joblib\n",
        "with open('linreg','wb') as f:\n",
        "  pickle.dump(reg,f)\n",
        "joblib.dump(reg,'nh')\n",
        "mod=joblib.load('nh')\n",
        "mod.predict([[50002]])"
      ],
      "execution_count": 0,
      "outputs": []
    }
  ]
}